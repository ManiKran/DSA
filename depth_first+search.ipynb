{
 "cells": [
  {
   "cell_type": "code",
   "execution_count": 2,
   "id": "56de210d",
   "metadata": {},
   "outputs": [],
   "source": [
    "class Node():\n",
    "\n",
    "    def __init__(self, data):\n",
    "        self.data = data\n",
    "        self.left = None\n",
    "        self.right = None"
   ]
  },
  {
   "cell_type": "code",
   "execution_count": 3,
   "id": "91f539c0",
   "metadata": {},
   "outputs": [],
   "source": [
    "n1 = Node(50)\n",
    "n2 = Node(30)\n",
    "n3 = Node(10)\n",
    "n4 = Node(40)\n",
    "n5 = Node(90)\n",
    "n6 = Node(70)\n",
    "n7 = Node(80)\n",
    "n8 = Node(20)\n",
    "n9 = Node(60)"
   ]
  },
  {
   "cell_type": "code",
   "execution_count": 4,
   "id": "a9c5fd95",
   "metadata": {},
   "outputs": [],
   "source": [
    "n1.left = n3\n",
    "n1.right = n9\n",
    "n3.left = n2\n",
    "n3.right = n8\n",
    "n8.right = n5\n",
    "n9.left = n7\n",
    "n9.right = n4\n",
    "n4.right = n6"
   ]
  },
  {
   "cell_type": "code",
   "execution_count": 5,
   "id": "c97c9853",
   "metadata": {},
   "outputs": [],
   "source": [
    "def dfs_tree(root):\n",
    "    s = [root]\n",
    "    temp = 0\n",
    "    dfs = []\n",
    "    while temp < len(s):\n",
    "        curr = s[temp]\n",
    "        if curr.right:\n",
    "            s.append(curr.right)\n",
    "        if curr.left:\n",
    "            s.append(curr.left)\n",
    "        temp += 1\n",
    "\n",
    "    for i in reversed(s):\n",
    "        dfs.append(i.data)\n",
    "\n",
    "    return dfs\n",
    "        \n"
   ]
  },
  {
   "cell_type": "code",
   "execution_count": 6,
   "id": "d8a5c5b4",
   "metadata": {},
   "outputs": [
    {
     "data": {
      "text/plain": [
       "[90, 70, 30, 20, 80, 40, 10, 60, 50]"
      ]
     },
     "execution_count": 6,
     "metadata": {},
     "output_type": "execute_result"
    }
   ],
   "source": [
    "dfs_tree(n1)"
   ]
  },
  {
   "cell_type": "code",
   "execution_count": 9,
   "id": "1942397b",
   "metadata": {},
   "outputs": [],
   "source": [
    "def inorder_traversal(root):\n",
    "    if not root:\n",
    "        return []\n",
    "    return inorder_traversal(root.left) + [root.data] + inorder_traversal(root.right)"
   ]
  },
  {
   "cell_type": "code",
   "execution_count": 10,
   "id": "78424937",
   "metadata": {},
   "outputs": [
    {
     "data": {
      "text/plain": [
       "[30, 10, 20, 90, 50, 80, 60, 40, 70]"
      ]
     },
     "execution_count": 10,
     "metadata": {},
     "output_type": "execute_result"
    }
   ],
   "source": [
    "inorder_traversal(n1)"
   ]
  },
  {
   "cell_type": "code",
   "execution_count": 17,
   "id": "e5a6e995",
   "metadata": {},
   "outputs": [],
   "source": [
    "def preorder_traversal(root):\n",
    "    if not root:\n",
    "        return []\n",
    "    return [root.data] + preorder_traversal(root.left) + preorder_traversal(root.right)"
   ]
  },
  {
   "cell_type": "code",
   "execution_count": 18,
   "id": "184b5396",
   "metadata": {},
   "outputs": [
    {
     "data": {
      "text/plain": [
       "[50, 10, 30, 20, 90, 60, 80, 40, 70]"
      ]
     },
     "execution_count": 18,
     "metadata": {},
     "output_type": "execute_result"
    }
   ],
   "source": [
    "preorder_traversal(n1)"
   ]
  },
  {
   "cell_type": "code",
   "execution_count": 19,
   "id": "1acc95bd",
   "metadata": {},
   "outputs": [],
   "source": [
    "def postorder_traversal(root):\n",
    "    if not root:\n",
    "        return []\n",
    "    return postorder_traversal(root.left) + postorder_traversal(root.right) + [root.data]"
   ]
  },
  {
   "cell_type": "code",
   "execution_count": 20,
   "id": "f36d88de",
   "metadata": {},
   "outputs": [
    {
     "data": {
      "text/plain": [
       "[30, 90, 20, 10, 80, 70, 40, 60, 50]"
      ]
     },
     "execution_count": 20,
     "metadata": {},
     "output_type": "execute_result"
    }
   ],
   "source": [
    "postorder_traversal(n1)"
   ]
  },
  {
   "cell_type": "code",
   "execution_count": null,
   "id": "f6a47e3f",
   "metadata": {},
   "outputs": [],
   "source": []
  }
 ],
 "metadata": {
  "kernelspec": {
   "display_name": "Python 3",
   "language": "python",
   "name": "python3"
  },
  "language_info": {
   "codemirror_mode": {
    "name": "ipython",
    "version": 3
   },
   "file_extension": ".py",
   "mimetype": "text/x-python",
   "name": "python",
   "nbconvert_exporter": "python",
   "pygments_lexer": "ipython3",
   "version": "3.12.1"
  }
 },
 "nbformat": 4,
 "nbformat_minor": 5
}
