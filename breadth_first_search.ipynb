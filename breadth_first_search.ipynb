{
 "cells": [
  {
   "cell_type": "code",
   "execution_count": null,
   "id": "eec20089",
   "metadata": {},
   "outputs": [],
   "source": [
    "# creating a tree."
   ]
  },
  {
   "cell_type": "code",
   "execution_count": 3,
   "id": "4bc862b4",
   "metadata": {},
   "outputs": [],
   "source": [
    "class Node:\n",
    "    def __init__(self, data):\n",
    "        self.data = data\n",
    "        self.left = None\n",
    "        self.right = None"
   ]
  },
  {
   "cell_type": "code",
   "execution_count": 4,
   "id": "8917f386",
   "metadata": {},
   "outputs": [],
   "source": [
    "n1 = Node(50)\n",
    "n2 = Node(30)\n",
    "n3 = Node(10)\n",
    "n4 = Node(40)\n",
    "n5 = Node(90)\n",
    "n6 = Node(70)\n",
    "n7 = Node(80)\n",
    "n8 = Node(20)\n",
    "n9 = Node(60)"
   ]
  },
  {
   "cell_type": "code",
   "execution_count": 5,
   "id": "c9536698",
   "metadata": {},
   "outputs": [],
   "source": [
    "n1.left = n3\n",
    "n1.right = n9\n",
    "n3.left = n2\n",
    "n3.right = n8\n",
    "n8.right = n5\n",
    "n9.left = n7\n",
    "n9.right = n4\n",
    "n4.right = n6"
   ]
  },
  {
   "cell_type": "code",
   "execution_count": null,
   "id": "a977b392",
   "metadata": {},
   "outputs": [],
   "source": [
    "def bfs_tree(root):\n",
    "    queue = [root]\n",
    "    bfs = []\n",
    "    while len(queue):\n",
    "        curr = queue.pop(0)\n",
    "        bfs.append(curr.data)\n",
    "        if curr.left != None:\n",
    "            queue.append(curr.left)\n",
    "        if curr.right != None:\n",
    "            queue.append(curr.right)\n",
    "    return bfs"
   ]
  },
  {
   "cell_type": "code",
   "execution_count": 15,
   "metadata": {},
   "outputs": [
    {
     "name": "stdout",
     "output_type": "stream",
     "text": [
      "[50, 10, 60, 30, 20, 80, 40, 90, 70]\n"
     ]
    }
   ],
   "source": [
    "print(bfs_tree(n1))"
   ]
  },
  {
   "cell_type": "code",
   "execution_count": null,
   "id": "a87a06b0",
   "metadata": {},
   "outputs": [],
   "source": []
  }
 ],
 "metadata": {
  "kernelspec": {
   "display_name": "Python 3",
   "language": "python",
   "name": "python3"
  },
  "language_info": {
   "codemirror_mode": {
    "name": "ipython",
    "version": 3
   },
   "file_extension": ".py",
   "mimetype": "text/x-python",
   "name": "python",
   "nbconvert_exporter": "python",
   "pygments_lexer": "ipython3",
   "version": "3.12.1"
  }
 },
 "nbformat": 4,
 "nbformat_minor": 5
}
